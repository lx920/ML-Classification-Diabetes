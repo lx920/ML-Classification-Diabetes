{
 "cells": [
  {
   "cell_type": "markdown",
   "metadata": {
    "id": "5RNfXaiVKToD"
   },
   "source": [
    "# Diabetes Prediction with Classification Models\n",
    "In this project, I will explore some popular ML models on the classification problem of diabetes.\\\n",
    "\\\n",
    "All models will use the same test and train data sets.\\\n",
    "\\\n",
    "Model Accuracy, precision, recall and ROC/AUC will be noted for comparison\\\n",
    "\\\n",
    "The models covered are:\n",
    "- 1: Logistic Regression\n",
    "- 2: SVM (GridSearchCV on hyperparameters)\n",
    "- 3: Random Forest\n"
   ]
  },
  {
   "cell_type": "code",
   "execution_count": null,
   "metadata": {
    "id": "PyKlg8eNXtNR"
   },
   "outputs": [],
   "source": [
    "import pandas as pd\n",
    "import numpy as np\n",
    "from sklearn.impute import KNNImputer\n",
    "import random\n",
    "from sklearn.model_selection import train_test_split\n",
    "from sklearn.linear_model import LogisticRegression\n",
    "from sklearn import metrics\n",
    "import seaborn as sn\n",
    "import matplotlib.pyplot as plt\n",
    "from sklearn.metrics import roc_curve\n",
    "from sklearn.metrics import roc_auc_score\n",
    "from sklearn.metrics import precision_recall_curve\n",
    "from sklearn.metrics import auc\n",
    "from sklearn import svm\n",
    "from sklearn.ensemble import RandomForestClassifier\n",
    "from sklearn.model_selection import GridSearchCV"
   ]
  },
  {
   "cell_type": "markdown",
   "metadata": {
    "id": "q8gUAFOIX7vH"
   },
   "source": [
    "### Read CSV and check NA values\n",
    "- It does not seem to be any NA values in this dataset\n"
   ]
  },
  {
   "cell_type": "code",
   "execution_count": null,
   "metadata": {
    "colab": {
     "base_uri": "https://localhost:8080/"
    },
    "id": "BCtyG59dX51Z",
    "outputId": "a1665d7f-01a7-44fb-e282-e094d8b47bc1"
   },
   "outputs": [
    {
     "data": {
      "text/plain": [
       "Pregnancies                 0\n",
       "Glucose                     0\n",
       "BloodPressure               0\n",
       "SkinThickness               0\n",
       "Insulin                     0\n",
       "BMI                         0\n",
       "DiabetesPedigreeFunction    0\n",
       "Age                         0\n",
       "Outcome                     0\n",
       "dtype: int64"
      ]
     },
     "execution_count": 83,
     "metadata": {
      "tags": []
     },
     "output_type": "execute_result"
    }
   ],
   "source": [
    "def check_na(n:str):\n",
    "    global diabetes\n",
    "    diabetes = pd.read_csv(n)\n",
    "    return diabetes.isna().sum()\n",
    "\n",
    "check_na('diabetes.csv')"
   ]
  },
  {
   "cell_type": "markdown",
   "metadata": {
    "id": "gDrkm9hLYUGU"
   },
   "source": [
    "### Value of 0\n",
    "-  However, values of 0 can indicate missing values in a lot of columns.\n",
    "-  There are a lot of 0 values in many columns. They can indicate missing values"
   ]
  },
  {
   "cell_type": "code",
   "execution_count": null,
   "metadata": {
    "colab": {
     "base_uri": "https://localhost:8080/"
    },
    "id": "T5tH81eWYNc2",
    "outputId": "8a4aa7fe-abc7-4459-da6d-028a0712ebaf"
   },
   "outputs": [
    {
     "name": "stdout",
     "output_type": "stream",
     "text": [
      "The number of 0 value is 111 in Pregnancies\n",
      "The number of 0 value is 5 in Glucose\n",
      "The number of 0 value is 35 in BloodPressure\n",
      "The number of 0 value is 227 in SkinThickness\n",
      "The number of 0 value is 374 in Insulin\n",
      "The number of 0 value is 11 in BMI\n",
      "The number of 0 value is 0 in DiabetesPedigreeFunction\n",
      "The number of 0 value is 0 in Age\n"
     ]
    }
   ],
   "source": [
    "for i in range(len(diabetes.columns) - 1):\n",
    "    print('The number of 0 value is ' + str(sum(diabetes.iloc[:,i] == 0)) + ' in ' + diabetes.columns[i])"
   ]
  },
  {
   "cell_type": "markdown",
   "metadata": {
    "id": "cnjQXgncY_Yl"
   },
   "source": [
    "### Intepretaion\n",
    "- DiabetesPedigreeFunction and Age are all good\n",
    "- It is possible for Pregnancies to be 0.\n",
    "\n",
    "- We need to find ways tp fill:\\\n",
    "Glucose, BloodPressure, SkinThickness, Insulin and BMI\n"
   ]
  },
  {
   "cell_type": "markdown",
   "metadata": {
    "id": "dDA7qHMIZvpE"
   },
   "source": [
    "### Median Imputation\n",
    "### Fill Glucose, BloodPressure and BMI\n",
    "- They have 5, 35, and 11 missing values respectively\n",
    "- Compared to 768 rows, the missing values are relatively few.\n",
    "- We can fill the missing value with median."
   ]
  },
  {
   "cell_type": "code",
   "execution_count": null,
   "metadata": {
    "colab": {
     "base_uri": "https://localhost:8080/"
    },
    "id": "2XjIEJO7Yz4W",
    "outputId": "e548595b-67a3-48e2-c390-881bd7ae75e3"
   },
   "outputs": [
    {
     "data": {
      "text/plain": [
       "0"
      ]
     },
     "execution_count": 85,
     "metadata": {
      "tags": []
     },
     "output_type": "execute_result"
    }
   ],
   "source": [
    "def Glucose_fill():\n",
    "    diabetes['Glucose'] = diabetes['Glucose'].replace(0, diabetes[diabetes['Glucose'] != 0]['Glucose'].median())\n",
    "    return sum(diabetes['Glucose'] == 0)\n",
    "\n",
    "def BP_fill():\n",
    "    diabetes['BloodPressure'] = diabetes['BloodPressure'].replace(0, diabetes[diabetes['BloodPressure'] != 0]['BloodPressure'].median())\n",
    "    return sum(diabetes['BloodPressure'] == 0)\n",
    "\n",
    "def BMI_fill():\n",
    "    diabetes['BMI'] = diabetes['BMI'].replace(0, diabetes[diabetes['BMI'] != 0]['BMI'].median())\n",
    "    return sum(diabetes['BMI'] == 0)\n",
    "\n",
    "Glucose_fill()\n",
    "BP_fill()\n",
    "BMI_fill()"
   ]
  },
  {
   "cell_type": "markdown",
   "metadata": {
    "id": "_WlHdl9wdKMX"
   },
   "source": [
    "### KNN Imputation\n",
    "### Fill SkinThickness and Insulin\n",
    "- There are 227 and 374 missing values respectively\n",
    "- Median or mean imputation will not work well\n",
    "- Thus, I decided to do KNN imputation of k = 5\n",
    "- Use the first 8 columns (independent variables)"
   ]
  },
  {
   "cell_type": "code",
   "execution_count": null,
   "metadata": {
    "colab": {
     "base_uri": "https://localhost:8080/"
    },
    "id": "EKIgNSDsbej9",
    "outputId": "a78c5b79-b62f-4a38-9e27-d8a5accfeda3"
   },
   "outputs": [
    {
     "data": {
      "text/plain": [
       "Pregnancies                 0\n",
       "Glucose                     0\n",
       "BloodPressure               0\n",
       "SkinThickness               0\n",
       "Insulin                     0\n",
       "BMI                         0\n",
       "DiabetesPedigreeFunction    0\n",
       "Age                         0\n",
       "Outcome                     0\n",
       "dtype: int64"
      ]
     },
     "execution_count": 86,
     "metadata": {
      "tags": []
     },
     "output_type": "execute_result"
    }
   ],
   "source": [
    "def KNN_impute():\n",
    "    # Replace 0 with NaN in these two columns\n",
    "    diabetes['SkinThickness'] = diabetes['SkinThickness'].replace(0, float('NaN'))\n",
    "    diabetes['Insulin'] = diabetes['Insulin'].replace(0, float('NaN'))\n",
    "    \n",
    "    # Define Imputer, K = 5 \n",
    "    imputer = KNNImputer(n_neighbors=5, weights='uniform', metric='nan_euclidean')\n",
    "    imputer.fit(diabetes.iloc[:, :-1])\n",
    "    diabetes_trans = imputer.transform(diabetes.iloc[:, :-1])\n",
    "    \n",
    "    global df\n",
    "    df = pd.DataFrame(diabetes_trans, columns=['Pregnancies', 'Glucose', 'BloodPressure', 'SkinThickness', 'Insulin', 'BMI', 'DiabetesPedigreeFunction', 'Age'])\n",
    "    df['Outcome'] = diabetes['Outcome']\n",
    "    \n",
    "    return df.isna().sum()\n",
    "\n",
    "KNN_impute()"
   ]
  },
  {
   "cell_type": "markdown",
   "metadata": {
    "id": "3qzv6AGysdiy"
   },
   "source": [
    "Now, we have successfully filled all missing values in our data. We can move forward to the classification algorithm"
   ]
  },
  {
   "cell_type": "markdown",
   "metadata": {
    "id": "Dix-ireY7FSP"
   },
   "source": [
    "## Before Classification -- Train Test Split\n",
    "We will use cross validation through out different algorithms\\\n",
    "In order to make model results comparable, we will use the same train test sets.\\\n",
    "We will use 80% as train and 20% as test."
   ]
  },
  {
   "cell_type": "code",
   "execution_count": null,
   "metadata": {
    "id": "2aPhA27ZsdOC"
   },
   "outputs": [],
   "source": [
    "# Creating train and test data\n",
    "X = df.iloc[:, :-1]\n",
    "y = df['Outcome']\n",
    "\n",
    "X_train,X_test,y_train,y_test = train_test_split(X,y,test_size=0.2,random_state=0)"
   ]
  },
  {
   "cell_type": "markdown",
   "metadata": {
    "id": "o3XS31G_fnzM"
   },
   "source": [
    "## Logistic Regression"
   ]
  },
  {
   "cell_type": "code",
   "execution_count": null,
   "metadata": {
    "colab": {
     "base_uri": "https://localhost:8080/"
    },
    "id": "UeYtR6sGbkSj",
    "outputId": "a542d49a-4eaf-400a-e62a-8099454d531c"
   },
   "outputs": [
    {
     "name": "stdout",
     "output_type": "stream",
     "text": [
      "Accuracy: 0.8051948051948052\n",
      "Precision: 0.7073170731707317\n",
      "Recall: 0.6170212765957447\n"
     ]
    },
    {
     "name": "stderr",
     "output_type": "stream",
     "text": [
      "/usr/local/lib/python3.7/dist-packages/sklearn/linear_model/_logistic.py:940: ConvergenceWarning: lbfgs failed to converge (status=1):\n",
      "STOP: TOTAL NO. of ITERATIONS REACHED LIMIT.\n",
      "\n",
      "Increase the number of iterations (max_iter) or scale the data as shown in:\n",
      "    https://scikit-learn.org/stable/modules/preprocessing.html\n",
      "Please also refer to the documentation for alternative solver options:\n",
      "    https://scikit-learn.org/stable/modules/linear_model.html#logistic-regression\n",
      "  extra_warning_msg=_LOGISTIC_SOLVER_CONVERGENCE_MSG)\n"
     ]
    }
   ],
   "source": [
    "# Train and predict\n",
    "my_logit = LogisticRegression()\n",
    "my_logit.fit(X_train, y_train)\n",
    "y_pred = my_logit.predict(X_test)\n",
    "\n",
    "# Accuracy, Precision and Recall\n",
    "print(\"Accuracy:\",metrics.accuracy_score(y_test, y_pred))\n",
    "print(\"Precision:\",metrics.precision_score(y_test, y_pred))\n",
    "print(\"Recall:\",metrics.recall_score(y_test, y_pred))"
   ]
  },
  {
   "cell_type": "code",
   "execution_count": null,
   "metadata": {
    "colab": {
     "base_uri": "https://localhost:8080/",
     "height": 296
    },
    "id": "MjqA3LEYXQTJ",
    "outputId": "0cd34e88-6d17-4d75-9335-b9cc512c9656"
   },
   "outputs": [
    {
     "data": {
      "text/plain": [
       "<matplotlib.axes._subplots.AxesSubplot at 0x7efc8f6664d0>"
      ]
     },
     "execution_count": 114,
     "metadata": {
      "tags": []
     },
     "output_type": "execute_result"
    },
    {
     "data": {
      "image/png": "[encoded data removed]",
      "text/plain": [
       "<Figure size 432x288 with 2 Axes>"
      ]
     },
     "metadata": {
      "needs_background": "light",
      "tags": []
     },
     "output_type": "display_data"
    }
   ],
   "source": [
    "#Confusion Matrix\n",
    "confusion_matrix = pd.crosstab(y_test, y_pred, rownames=['Actual'], colnames=['Predicted'])\n",
    "sn.heatmap(confusion_matrix, annot=True)"
   ]
  },
  {
   "cell_type": "markdown",
   "metadata": {
    "id": "7EwUONEYhubT"
   },
   "source": [
    "### In predicting the test data:\n",
    "- There are 95 True Negatives\n",
    "- There are 29 True Positives\n",
    "- There are 18 False Negatives\n",
    "- There are 12 False Positives\n",
    "\n",
    "Accuracy = 0.805\n",
    "Precision = 0.707\n",
    "Recall = 0.617"
   ]
  },
  {
   "cell_type": "markdown",
   "metadata": {
    "id": "m11QUJ3ZfFVP"
   },
   "source": [
    "## Intepretation on Business Impact\n",
    "- 70% of the patients predicted to have diabetes actually have diabetes.\n",
    "- This will result roughly 30% of people wrongly diagnosed with diabetes.\n",
    "\n",
    "- There are 18 False Negatives resulting in a bad Recall.\n",
    "- This means that roughly 61.7% of all patients who indeed have diabetes will be diagnosed correctly by this model.\n",
    "- I will only suggest this model as a rough reference for business use. Doctors will still need to rely on their judgement."
   ]
  },
  {
   "cell_type": "code",
   "execution_count": null,
   "metadata": {
    "colab": {
     "base_uri": "https://localhost:8080/",
     "height": 313
    },
    "id": "qz7Uzf-lhbxO",
    "outputId": "62829b76-62f2-4599-bb5f-78c0debd8f0f"
   },
   "outputs": [
    {
     "name": "stdout",
     "output_type": "stream",
     "text": [
      "No Skill: ROC AUC=0.500\n",
      "Logistic: ROC AUC=0.882\n"
     ]
    },
    {
     "data": {
      "image/png": "[encoded data removed]",
      "text/plain": [
       "<Figure size 432x288 with 1 Axes>"
      ]
     },
     "metadata": {
      "needs_background": "light",
      "tags": []
     },
     "output_type": "display_data"
    }
   ],
   "source": [
    "# ROC AUC Curve\n",
    "ns_probs = [0 for _ in range(len(y_test))]\n",
    "lr_probs = my_logit.predict_proba(X_test)\n",
    "lr_probs = lr_probs[:, 1]\n",
    "\n",
    "ns_auc = roc_auc_score(y_test, ns_probs)\n",
    "lr_auc = roc_auc_score(y_test, lr_probs)\n",
    "\n",
    "print('No Skill: ROC AUC=%.3f' % (ns_auc))\n",
    "print('Logistic: ROC AUC=%.3f' % (lr_auc))\n",
    "\n",
    "# calculate roc curves\n",
    "ns_fpr, ns_tpr, _ = roc_curve(y_test, ns_probs)\n",
    "lr_fpr, lr_tpr, _ = roc_curve(y_test, lr_probs)\n",
    "\n",
    "# plot the roc curve for the model\n",
    "plt.plot(ns_fpr, ns_tpr, linestyle='--', label='No Skill')\n",
    "plt.plot(lr_fpr, lr_tpr, marker='.', label='Logistic')\n",
    "\n",
    "# axis labels\n",
    "plt.xlabel('False Positive Rate')\n",
    "plt.ylabel('True Positive Rate')\n",
    "# show the legend\n",
    "plt.legend()\n",
    "# show the plot\n",
    "plt.show()"
   ]
  },
  {
   "cell_type": "markdown",
   "metadata": {
    "id": "pJUEHpkkoev1"
   },
   "source": [
    "### ROC AUC:\n",
    "Logistic regression has a score of 0.882"
   ]
  },
  {
   "cell_type": "markdown",
   "metadata": {
    "id": "LZirSYJYwvW3"
   },
   "source": [
    "## Support Vector Machine\n",
    "- First, we just run SVC with everything set to default"
   ]
  },
  {
   "cell_type": "code",
   "execution_count": null,
   "metadata": {
    "colab": {
     "base_uri": "https://localhost:8080/"
    },
    "id": "Cv_K2Lstllwp",
    "outputId": "486791c2-1c46-4da3-8001-aa4a06e1bdb5"
   },
   "outputs": [
    {
     "name": "stdout",
     "output_type": "stream",
     "text": [
      "Accuracy: 0.7857142857142857\n",
      "Precision: 0.7058823529411765\n",
      "Recall: 0.5106382978723404\n"
     ]
    }
   ],
   "source": [
    "clf = svm.SVC(probability=True)\n",
    "clf.fit(X_train, y_train)\n",
    "y_pred = clf.predict(X_test)\n",
    "\n",
    "print(\"Accuracy:\",metrics.accuracy_score(y_test, y_pred))\n",
    "print(\"Precision:\",metrics.precision_score(y_test, y_pred))\n",
    "print(\"Recall:\",metrics.recall_score(y_test, y_pred))"
   ]
  },
  {
   "cell_type": "code",
   "execution_count": null,
   "metadata": {
    "colab": {
     "base_uri": "https://localhost:8080/",
     "height": 296
    },
    "id": "5IeXP4l437gF",
    "outputId": "92b46417-81d3-4873-e318-53a3b8d738ea"
   },
   "outputs": [
    {
     "data": {
      "text/plain": [
       "<matplotlib.axes._subplots.AxesSubplot at 0x7efc9225fed0>"
      ]
     },
     "execution_count": 106,
     "metadata": {
      "tags": []
     },
     "output_type": "execute_result"
    },
    {
     "data": {
      "image/png": "[encoded data removed]",
      "text/plain": [
       "<Figure size 432x288 with 2 Axes>"
      ]
     },
     "metadata": {
      "needs_background": "light",
      "tags": []
     },
     "output_type": "display_data"
    }
   ],
   "source": [
    "confusion_matrix = pd.crosstab(y_test, y_pred, rownames=['Actual'], colnames=['Predicted'])\n",
    "sn.heatmap(confusion_matrix, annot=True)"
   ]
  },
  {
   "cell_type": "markdown",
   "metadata": {
    "id": "DAwyT9TDrT0j"
   },
   "source": [
    "Default SVC gives us:\\\n",
    "\\\n",
    "Accuracy: 0.785\\\n",
    "Precision: 0.705\\\n",
    "Recall: 0.510"
   ]
  },
  {
   "cell_type": "markdown",
   "metadata": {
    "id": "9-2lFmOwEHXY"
   },
   "source": [
    "## GridSearchCV \n",
    "\\\n",
    "Let's use GridsearchCV to find the best hyperparameters.\n",
    "\n",
    "### this one took 46 mins to run\n",
    "I honestly want to explore RBF and Polynomial Kernels too, but it is too time-consuming for my laptop.\\\n",
    "\\\n",
    "I believe this is mainly because of the grids, as well as probability = True\\\n",
    "It takes SVC additional time to calculate probability\n"
   ]
  },
  {
   "cell_type": "code",
   "execution_count": null,
   "metadata": {
    "colab": {
     "base_uri": "https://localhost:8080/"
    },
    "id": "C3SKgHthqf8J",
    "outputId": "930714db-6b6b-49ca-97a9-a14548b10aa8"
   },
   "outputs": [
    {
     "name": "stdout",
     "output_type": "stream",
     "text": [
      "Fitting 5 folds for each of 8 candidates, totalling 40 fits\n"
     ]
    },
    {
     "name": "stderr",
     "output_type": "stream",
     "text": [
      "[Parallel(n_jobs=-1)]: Using backend LokyBackend with 2 concurrent workers.\n",
      "[Parallel(n_jobs=-1)]: Done  28 tasks      | elapsed: 12.1min\n",
      "[Parallel(n_jobs=-1)]: Done  40 out of  40 | elapsed: 46.6min finished\n"
     ]
    },
    {
     "name": "stdout",
     "output_type": "stream",
     "text": [
      "{'C': 100, 'gamma': 'scale', 'kernel': 'linear'}\n"
     ]
    }
   ],
   "source": [
    "param_grid = {'C': [0.1, 1, 10, 100],  \n",
    "              'gamma': [1, 0.1, 0.01, 0.001, 0.0001], \n",
    "              'gamma':['scale', 'auto'],\n",
    "              'kernel': ['linear']} \n",
    "\n",
    "grid = GridSearchCV(clf, param_grid, refit = True, verbose = 3,n_jobs=-1) \n",
    "\n",
    "# fitting the model for grid search \n",
    "grid.fit(X_train, y_train) \n",
    " \n",
    "# print best parameter after tuning \n",
    "print(grid.best_params_) \n",
    "grid_predictions = grid.predict(X_test) "
   ]
  },
  {
   "cell_type": "markdown",
   "metadata": {
    "id": "tMkHXSb8D8PL"
   },
   "source": [
    "### Best Hyperparameters for SVC\n",
    "- C = 100\n",
    "- Gamma = Scale\n",
    "- Kernel = Linear\n",
    "\n",
    "How does it perform under these hyperparameters?"
   ]
  },
  {
   "cell_type": "code",
   "execution_count": null,
   "metadata": {
    "colab": {
     "base_uri": "https://localhost:8080/"
    },
    "id": "DrTL36o1FJow",
    "outputId": "4da848c2-8060-4340-81ec-b64f0bb3acea"
   },
   "outputs": [
    {
     "name": "stdout",
     "output_type": "stream",
     "text": [
      "Accuracy: 0.8181818181818182\n",
      "Precision: 0.7111111111111111\n",
      "Recall: 0.6808510638297872\n"
     ]
    }
   ],
   "source": [
    "print(\"Accuracy:\",metrics.accuracy_score(y_test, grid_predictions))\n",
    "print(\"Precision:\",metrics.precision_score(y_test, grid_predictions))\n",
    "print(\"Recall:\",metrics.recall_score(y_test, grid_predictions))"
   ]
  },
  {
   "cell_type": "code",
   "execution_count": null,
   "metadata": {
    "colab": {
     "base_uri": "https://localhost:8080/",
     "height": 313
    },
    "id": "DJWtCgmdC6xW",
    "outputId": "8437fad4-276e-44f0-97c4-0f30470a8019"
   },
   "outputs": [
    {
     "name": "stdout",
     "output_type": "stream",
     "text": [
      "No Skill: ROC AUC=0.500\n",
      "Logistic: ROC AUC=0.865\n"
     ]
    },
    {
     "data": {
      "image/png": "[encoded data removed]",
      "text/plain": [
       "<Figure size 432x288 with 1 Axes>"
      ]
     },
     "metadata": {
      "needs_background": "light",
      "tags": []
     },
     "output_type": "display_data"
    }
   ],
   "source": [
    "ns_probs = [0 for _ in range(len(y_test))]\n",
    "lr_probs = grid.predict_proba(X_test)\n",
    "lr_probs = lr_probs[:, 1]\n",
    "\n",
    "ns_auc = roc_auc_score(y_test, ns_probs)\n",
    "lr_auc = roc_auc_score(y_test, lr_probs)\n",
    "\n",
    "print('No Skill: ROC AUC=%.3f' % (ns_auc))\n",
    "print('Logistic: ROC AUC=%.3f' % (lr_auc))\n",
    "\n",
    "# calculate roc curves\n",
    "ns_fpr, ns_tpr, _ = roc_curve(y_test, ns_probs)\n",
    "lr_fpr, lr_tpr, _ = roc_curve(y_test, lr_probs)\n",
    "\n",
    "# plot the roc curve for the model\n",
    "plt.plot(ns_fpr, ns_tpr, linestyle='--', label='No Skill')\n",
    "plt.plot(lr_fpr, lr_tpr, marker='.', label='Logistic')\n",
    "\n",
    "# axis labels\n",
    "plt.xlabel('False Positive Rate')\n",
    "plt.ylabel('True Positive Rate')\n",
    "# show the legend\n",
    "plt.legend()\n",
    "# show the plot\n",
    "plt.show()"
   ]
  },
  {
   "cell_type": "markdown",
   "metadata": {
    "id": "OLZzHeaXGbuE"
   },
   "source": [
    "The SVM method gives us an ROC AUC of 0.863. Slightly worse than logistic regression\n"
   ]
  },
  {
   "cell_type": "markdown",
   "metadata": {
    "id": "AjVa8uI6hacB"
   },
   "source": [
    "## Business Impact Intepretation:\n",
    "- compared to the logistic regression model, SVM improved Recall significantly.\n",
    "- We have roughly the same precision, which is 71%\n",
    "- Recall became 68%, which means that 68% of the patients who actually have diabetes will be correctly identified.\n",
    "\n",
    "- Our doctor can refer to this model with more confidence than logistic regression. Although they should not trust this model fully."
   ]
  },
  {
   "cell_type": "markdown",
   "metadata": {
    "id": "LvbIdRAFIGkL"
   },
   "source": [
    "# Random Forest Model\n",
    "- I decided to plant 10000 trees in this model.\n",
    "- The model have more potential if we plant more than 10000 trees, but that will be very time-consuming."
   ]
  },
  {
   "cell_type": "code",
   "execution_count": null,
   "metadata": {
    "colab": {
     "base_uri": "https://localhost:8080/"
    },
    "id": "mvOaaOdrEu7q",
    "outputId": "ef2d1c43-5b48-424a-f9f9-928de8a32076"
   },
   "outputs": [
    {
     "name": "stdout",
     "output_type": "stream",
     "text": [
      "Accuracy: 0.8246753246753247\n",
      "Precision: 0.717391304347826\n",
      "Recall: 0.7021276595744681\n"
     ]
    }
   ],
   "source": [
    "random.seed(10)\n",
    "clf=RandomForestClassifier(n_estimators=10000)\n",
    "clf.fit(X_train,y_train)\n",
    "y_pred=clf.predict(X_test)\n",
    "\n",
    "print(\"Accuracy:\",metrics.accuracy_score(y_test, y_pred))\n",
    "print(\"Precision:\",metrics.precision_score(y_test, y_pred))\n",
    "print(\"Recall:\",metrics.recall_score(y_test, y_pred))"
   ]
  },
  {
   "cell_type": "markdown",
   "metadata": {
    "id": "_fs8jO5Ok_Vf"
   },
   "source": [
    "### Random Forest Performance\n",
    "- Accuracy: 0.824\n",
    "- Precision 0.717\n",
    "- Recall: 0.702\\\n",
    "\\\n",
    "Overall, a pretty significant improvement over Logistic Regression and SVM"
   ]
  },
  {
   "cell_type": "code",
   "execution_count": null,
   "metadata": {
    "colab": {
     "base_uri": "https://localhost:8080/",
     "height": 313
    },
    "id": "sAGCUN84lSYx",
    "outputId": "ea150574-ae7f-4c41-9931-a78527d3ac18"
   },
   "outputs": [
    {
     "name": "stdout",
     "output_type": "stream",
     "text": [
      "No Skill: ROC AUC=0.500\n",
      "Logistic: ROC AUC=0.873\n"
     ]
    },
    {
     "data": {
      "image/png": "[encoded data removed]",
      "text/plain": [
       "<Figure size 432x288 with 1 Axes>"
      ]
     },
     "metadata": {
      "needs_background": "light",
      "tags": []
     },
     "output_type": "display_data"
    }
   ],
   "source": [
    "ns_probs = [0 for _ in range(len(y_test))]\n",
    "lr_probs = clf.predict_proba(X_test)\n",
    "lr_probs = lr_probs[:, 1]\n",
    "\n",
    "ns_auc = roc_auc_score(y_test, ns_probs)\n",
    "lr_auc = roc_auc_score(y_test, lr_probs)\n",
    "\n",
    "print('No Skill: ROC AUC=%.3f' % (ns_auc))\n",
    "print('Logistic: ROC AUC=%.3f' % (lr_auc))\n",
    "\n",
    "# calculate roc curves\n",
    "ns_fpr, ns_tpr, _ = roc_curve(y_test, ns_probs)\n",
    "lr_fpr, lr_tpr, _ = roc_curve(y_test, lr_probs)\n",
    "\n",
    "# plot the roc curve for the model\n",
    "plt.plot(ns_fpr, ns_tpr, linestyle='--', label='No Skill')\n",
    "plt.plot(lr_fpr, lr_tpr, marker='.', label='Logistic')\n",
    "\n",
    "# axis labels\n",
    "plt.xlabel('False Positive Rate')\n",
    "plt.ylabel('True Positive Rate')\n",
    "# show the legend\n",
    "plt.legend()\n",
    "# show the plot\n",
    "plt.show()"
   ]
  },
  {
   "cell_type": "markdown",
   "metadata": {
    "id": "G2IOvxTbl8tP"
   },
   "source": [
    "### ROC AUC = 0.873 for Random Forest"
   ]
  },
  {
   "cell_type": "markdown",
   "metadata": {
    "id": "g8x4_H8DmH-d"
   },
   "source": [
    "## A quick look on feature importance"
   ]
  },
  {
   "cell_type": "code",
   "execution_count": null,
   "metadata": {
    "colab": {
     "base_uri": "https://localhost:8080/",
     "height": 312
    },
    "id": "qRGSRGQpcaVS",
    "outputId": "83f69d68-e359-40a3-a0c5-99b8592bf60f"
   },
   "outputs": [
    {
     "name": "stderr",
     "output_type": "stream",
     "text": [
      "No handles with labels found to put in legend.\n"
     ]
    },
    {
     "data": {
      "image/png": "[encoded data removed]",
      "text/plain": [
       "<Figure size 432x288 with 1 Axes>"
      ]
     },
     "metadata": {
      "needs_background": "light",
      "tags": []
     },
     "output_type": "display_data"
    }
   ],
   "source": [
    "feature_imp = pd.Series(clf.feature_importances_,index=X.columns).sort_values(ascending=False)\n",
    "sn.barplot(x=feature_imp, y=feature_imp.index)\n",
    "# Add labels to your graph\n",
    "plt.xlabel('Feature Importance Score')\n",
    "plt.ylabel('Features')\n",
    "plt.title(\"Visualizing Important Features\")\n",
    "plt.legend()\n",
    "plt.show()\n",
    "\n"
   ]
  },
  {
   "cell_type": "markdown",
   "metadata": {
    "id": "F2AhYQ6WjEiQ"
   },
   "source": [
    "## Business Intepretation:\n",
    "- RF model has 71.7% Precision and 70.2% Recall\n",
    "- This is the best performing model so far.\n",
    "- Doctors can refer to the prediction when diagnosing a patient.\n",
    "- We can also use this model to proactively search for patients with high potential to develop diabetes in the future.\n",
    "- We can target the patients identified with diabetes, do some preventative care\n",
    "- Also, looks like Glucose is the most important feature for diabetes prediction."
   ]
  },
  {
   "cell_type": "code",
   "execution_count": null,
   "metadata": {
    "id": "R9-uq3-qjLdm"
   },
   "outputs": [],
   "source": []
  }
 ],
 "metadata": {
  "colab": {
   "name": "453 HW1.ipynb",
   "provenance": [],
   "toc_visible": true
  },
  "kernelspec": {
   "display_name": "Python 3",
   "language": "python",
   "name": "python3"
  },
  "language_info": {
   "codemirror_mode": {
    "name": "ipython",
    "version": 3
   },
   "file_extension": ".py",
   "mimetype": "text/x-python",
   "name": "python",
   "nbconvert_exporter": "python",
   "pygments_lexer": "ipython3",
   "version": "3.7.6"
  }
 },
 "nbformat": 4,
 "nbformat_minor": 1
}
